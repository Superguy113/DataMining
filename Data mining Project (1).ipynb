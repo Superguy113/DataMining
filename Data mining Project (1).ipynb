{
 "cells": [
  {
   "cell_type": "markdown",
   "id": "0db49a09",
   "metadata": {},
   "source": [
    "IST - DBM2"
   ]
  },
  {
   "cell_type": "markdown",
   "id": "4a2dcd1d",
   "metadata": {},
   "source": [
    "# Data mining Project: : Titanic disaster Analysis"
   ]
  },
  {
   "cell_type": "markdown",
   "id": "ab21b264",
   "metadata": {},
   "source": [
    "## Chad Long & Francesca Costa\n",
    "\n"
   ]
  },
  {
   "cell_type": "markdown",
   "id": "b7e5764b",
   "metadata": {},
   "source": [
    "\n",
    "\n",
    "In this project we'd like to analyse a dataset about the Titanic disaster with some methods studied in class.\n",
    "Let's start presenting the data"
   ]
  },
  {
   "cell_type": "code",
   "execution_count": 513,
   "id": "915966ae",
   "metadata": {
    "scrolled": true
   },
   "outputs": [
    {
     "name": "stdout",
     "output_type": "stream",
     "text": [
      "Using matplotlib backend: MacOSX\n"
     ]
    }
   ],
   "source": [
    "import pandas as pd\n",
    "import csv\n",
    "%matplotlib"
   ]
  },
  {
   "cell_type": "code",
   "execution_count": 465,
   "id": "4cec1901",
   "metadata": {},
   "outputs": [
    {
     "data": {
      "text/html": [
       "<div>\n",
       "<style scoped>\n",
       "    .dataframe tbody tr th:only-of-type {\n",
       "        vertical-align: middle;\n",
       "    }\n",
       "\n",
       "    .dataframe tbody tr th {\n",
       "        vertical-align: top;\n",
       "    }\n",
       "\n",
       "    .dataframe thead th {\n",
       "        text-align: right;\n",
       "    }\n",
       "</style>\n",
       "<table border=\"1\" class=\"dataframe\">\n",
       "  <thead>\n",
       "    <tr style=\"text-align: right;\">\n",
       "      <th></th>\n",
       "      <th>PassengerID</th>\n",
       "      <th>Survived</th>\n",
       "      <th>Pclass</th>\n",
       "      <th>Name</th>\n",
       "      <th>Sex</th>\n",
       "      <th>Age</th>\n",
       "      <th>SibSp</th>\n",
       "      <th>Parch</th>\n",
       "      <th>Ticket</th>\n",
       "      <th>Fare</th>\n",
       "      <th>Cabin</th>\n",
       "      <th>Embarked</th>\n",
       "    </tr>\n",
       "  </thead>\n",
       "  <tbody>\n",
       "    <tr>\n",
       "      <th>0</th>\n",
       "      <td>1</td>\n",
       "      <td>0</td>\n",
       "      <td>3</td>\n",
       "      <td>Braund, Mr. Owen Harris</td>\n",
       "      <td>male</td>\n",
       "      <td>22.0</td>\n",
       "      <td>1</td>\n",
       "      <td>0</td>\n",
       "      <td>A/5 21171</td>\n",
       "      <td>7.2500</td>\n",
       "      <td>NaN</td>\n",
       "      <td>S</td>\n",
       "    </tr>\n",
       "    <tr>\n",
       "      <th>1</th>\n",
       "      <td>2</td>\n",
       "      <td>1</td>\n",
       "      <td>1</td>\n",
       "      <td>Cumings, Mrs. John Bradley (Florence Briggs Th...</td>\n",
       "      <td>female</td>\n",
       "      <td>38.0</td>\n",
       "      <td>1</td>\n",
       "      <td>0</td>\n",
       "      <td>PC 17599</td>\n",
       "      <td>71.2833</td>\n",
       "      <td>C85</td>\n",
       "      <td>C</td>\n",
       "    </tr>\n",
       "    <tr>\n",
       "      <th>2</th>\n",
       "      <td>3</td>\n",
       "      <td>1</td>\n",
       "      <td>3</td>\n",
       "      <td>Heikkinen, Miss. Laina</td>\n",
       "      <td>female</td>\n",
       "      <td>26.0</td>\n",
       "      <td>0</td>\n",
       "      <td>0</td>\n",
       "      <td>STON/O2. 3101282</td>\n",
       "      <td>7.9250</td>\n",
       "      <td>NaN</td>\n",
       "      <td>S</td>\n",
       "    </tr>\n",
       "    <tr>\n",
       "      <th>3</th>\n",
       "      <td>4</td>\n",
       "      <td>1</td>\n",
       "      <td>1</td>\n",
       "      <td>Futrelle, Mrs. Jacques Heath (Lily May Peel)</td>\n",
       "      <td>female</td>\n",
       "      <td>35.0</td>\n",
       "      <td>1</td>\n",
       "      <td>0</td>\n",
       "      <td>113803</td>\n",
       "      <td>53.1000</td>\n",
       "      <td>C123</td>\n",
       "      <td>S</td>\n",
       "    </tr>\n",
       "    <tr>\n",
       "      <th>4</th>\n",
       "      <td>5</td>\n",
       "      <td>0</td>\n",
       "      <td>3</td>\n",
       "      <td>Allen, Mr. William Henry</td>\n",
       "      <td>male</td>\n",
       "      <td>35.0</td>\n",
       "      <td>0</td>\n",
       "      <td>0</td>\n",
       "      <td>373450</td>\n",
       "      <td>8.0500</td>\n",
       "      <td>NaN</td>\n",
       "      <td>S</td>\n",
       "    </tr>\n",
       "    <tr>\n",
       "      <th>5</th>\n",
       "      <td>6</td>\n",
       "      <td>0</td>\n",
       "      <td>3</td>\n",
       "      <td>Moran, Mr. James</td>\n",
       "      <td>male</td>\n",
       "      <td>NaN</td>\n",
       "      <td>0</td>\n",
       "      <td>0</td>\n",
       "      <td>330877</td>\n",
       "      <td>8.4583</td>\n",
       "      <td>NaN</td>\n",
       "      <td>Q</td>\n",
       "    </tr>\n",
       "    <tr>\n",
       "      <th>6</th>\n",
       "      <td>7</td>\n",
       "      <td>0</td>\n",
       "      <td>1</td>\n",
       "      <td>McCarthy, Mr. Timothy J</td>\n",
       "      <td>male</td>\n",
       "      <td>54.0</td>\n",
       "      <td>0</td>\n",
       "      <td>0</td>\n",
       "      <td>17463</td>\n",
       "      <td>51.8625</td>\n",
       "      <td>E46</td>\n",
       "      <td>S</td>\n",
       "    </tr>\n",
       "    <tr>\n",
       "      <th>7</th>\n",
       "      <td>8</td>\n",
       "      <td>0</td>\n",
       "      <td>3</td>\n",
       "      <td>Palsson, Master. Gosta Leonard</td>\n",
       "      <td>male</td>\n",
       "      <td>2.0</td>\n",
       "      <td>3</td>\n",
       "      <td>1</td>\n",
       "      <td>349909</td>\n",
       "      <td>21.0750</td>\n",
       "      <td>NaN</td>\n",
       "      <td>S</td>\n",
       "    </tr>\n",
       "    <tr>\n",
       "      <th>8</th>\n",
       "      <td>9</td>\n",
       "      <td>1</td>\n",
       "      <td>3</td>\n",
       "      <td>Johnson, Mrs. Oscar W (Elisabeth Vilhelmina Berg)</td>\n",
       "      <td>female</td>\n",
       "      <td>27.0</td>\n",
       "      <td>0</td>\n",
       "      <td>2</td>\n",
       "      <td>347742</td>\n",
       "      <td>11.1333</td>\n",
       "      <td>NaN</td>\n",
       "      <td>S</td>\n",
       "    </tr>\n",
       "    <tr>\n",
       "      <th>9</th>\n",
       "      <td>10</td>\n",
       "      <td>1</td>\n",
       "      <td>2</td>\n",
       "      <td>Nasser, Mrs. Nicholas (Adele Achem)</td>\n",
       "      <td>female</td>\n",
       "      <td>14.0</td>\n",
       "      <td>1</td>\n",
       "      <td>0</td>\n",
       "      <td>237736</td>\n",
       "      <td>30.0708</td>\n",
       "      <td>NaN</td>\n",
       "      <td>C</td>\n",
       "    </tr>\n",
       "  </tbody>\n",
       "</table>\n",
       "</div>"
      ],
      "text/plain": [
       "   PassengerID  Survived  Pclass  \\\n",
       "0            1         0       3   \n",
       "1            2         1       1   \n",
       "2            3         1       3   \n",
       "3            4         1       1   \n",
       "4            5         0       3   \n",
       "5            6         0       3   \n",
       "6            7         0       1   \n",
       "7            8         0       3   \n",
       "8            9         1       3   \n",
       "9           10         1       2   \n",
       "\n",
       "                                                Name     Sex   Age  SibSp  \\\n",
       "0                            Braund, Mr. Owen Harris    male  22.0      1   \n",
       "1  Cumings, Mrs. John Bradley (Florence Briggs Th...  female  38.0      1   \n",
       "2                             Heikkinen, Miss. Laina  female  26.0      0   \n",
       "3       Futrelle, Mrs. Jacques Heath (Lily May Peel)  female  35.0      1   \n",
       "4                           Allen, Mr. William Henry    male  35.0      0   \n",
       "5                                   Moran, Mr. James    male   NaN      0   \n",
       "6                            McCarthy, Mr. Timothy J    male  54.0      0   \n",
       "7                     Palsson, Master. Gosta Leonard    male   2.0      3   \n",
       "8  Johnson, Mrs. Oscar W (Elisabeth Vilhelmina Berg)  female  27.0      0   \n",
       "9                Nasser, Mrs. Nicholas (Adele Achem)  female  14.0      1   \n",
       "\n",
       "   Parch            Ticket     Fare Cabin Embarked  \n",
       "0      0         A/5 21171   7.2500   NaN        S  \n",
       "1      0          PC 17599  71.2833   C85        C  \n",
       "2      0  STON/O2. 3101282   7.9250   NaN        S  \n",
       "3      0            113803  53.1000  C123        S  \n",
       "4      0            373450   8.0500   NaN        S  \n",
       "5      0            330877   8.4583   NaN        Q  \n",
       "6      0             17463  51.8625   E46        S  \n",
       "7      1            349909  21.0750   NaN        S  \n",
       "8      2            347742  11.1333   NaN        S  \n",
       "9      0            237736  30.0708   NaN        C  "
      ]
     },
     "execution_count": 465,
     "metadata": {},
     "output_type": "execute_result"
    }
   ],
   "source": [
    "data = pd.read_csv('/Users/Francesca/Desktop/titanic1/train.csv')\n",
    "data.columns = ['PassengerID', 'Survived', 'Pclass', 'Name', 'Sex', 'Age', 'SibSp', 'Parch', \n",
    "               'Ticket', 'Fare', 'Cabin', 'Embarked']\n",
    "\n",
    "data.head(10)\n"
   ]
  },
  {
   "cell_type": "markdown",
   "id": "df0f5f6a",
   "metadata": {},
   "source": [
    "First of all, we want to check if there're some duplicated rows (and delete them in case)."
   ]
  },
  {
   "cell_type": "code",
   "execution_count": 467,
   "id": "5c12322b",
   "metadata": {
    "scrolled": true
   },
   "outputs": [
    {
     "name": "stdout",
     "output_type": "stream",
     "text": [
      "Number of duplicate rows = 0\n"
     ]
    }
   ],
   "source": [
    "dups = data.duplicated()\n",
    "print('Number of duplicate rows = %d' % (dups.sum()))"
   ]
  },
  {
   "cell_type": "markdown",
   "id": "79f9f883",
   "metadata": {},
   "source": [
    "There are no duplicated rows, so we can procede.\n"
   ]
  },
  {
   "cell_type": "markdown",
   "id": "a5cf7a93",
   "metadata": {},
   "source": [
    "We wanted to look in more details the numbers of tuples and attributes and the number of missing values."
   ]
  },
  {
   "cell_type": "code",
   "execution_count": 468,
   "id": "7f6e49a4",
   "metadata": {},
   "outputs": [
    {
     "name": "stdout",
     "output_type": "stream",
     "text": [
      "Number of instances = 891\n",
      "Number of attributes = 12\n",
      "Number of missing values:\n",
      "\tPassengerID: 0\n",
      "\tSurvived: 0\n",
      "\tPclass: 0\n",
      "\tName: 0\n",
      "\tSex: 0\n",
      "\tAge: 177\n",
      "\tSibSp: 0\n",
      "\tParch: 0\n",
      "\tTicket: 0\n",
      "\tFare: 0\n",
      "\tCabin: 687\n",
      "\tEmbarked: 2\n"
     ]
    }
   ],
   "source": [
    "import numpy as np\n",
    "\n",
    "print('Number of instances = %d' % data.shape[0])\n",
    "print('Number of attributes = %d' % data.shape[1])\n",
    "\n",
    "print('Number of missing values:')\n",
    "for col in data.columns:\n",
    "    print('\\t%s: %d' % (col, data[col].isna().sum()))"
   ]
  },
  {
   "cell_type": "markdown",
   "id": "097512f3",
   "metadata": {},
   "source": [
    "As we can see, in our dataset there are 891 istances and 12 attributes. However, not all columns are really needed for our analysis and we want to drop them.\n",
    "In this first step we will delete:\n",
    "- PassegnerID\n",
    "- Name\n",
    "- Ticket"
   ]
  },
  {
   "cell_type": "code",
   "execution_count": 469,
   "id": "8315584f",
   "metadata": {
    "scrolled": true
   },
   "outputs": [
    {
     "data": {
      "text/html": [
       "<div>\n",
       "<style scoped>\n",
       "    .dataframe tbody tr th:only-of-type {\n",
       "        vertical-align: middle;\n",
       "    }\n",
       "\n",
       "    .dataframe tbody tr th {\n",
       "        vertical-align: top;\n",
       "    }\n",
       "\n",
       "    .dataframe thead th {\n",
       "        text-align: right;\n",
       "    }\n",
       "</style>\n",
       "<table border=\"1\" class=\"dataframe\">\n",
       "  <thead>\n",
       "    <tr style=\"text-align: right;\">\n",
       "      <th></th>\n",
       "      <th>Survived</th>\n",
       "      <th>Pclass</th>\n",
       "      <th>Sex</th>\n",
       "      <th>Age</th>\n",
       "      <th>SibSp</th>\n",
       "      <th>Parch</th>\n",
       "      <th>Fare</th>\n",
       "      <th>Cabin</th>\n",
       "      <th>Embarked</th>\n",
       "    </tr>\n",
       "  </thead>\n",
       "  <tbody>\n",
       "    <tr>\n",
       "      <th>0</th>\n",
       "      <td>0</td>\n",
       "      <td>3</td>\n",
       "      <td>male</td>\n",
       "      <td>22.0</td>\n",
       "      <td>1</td>\n",
       "      <td>0</td>\n",
       "      <td>7.2500</td>\n",
       "      <td>NaN</td>\n",
       "      <td>S</td>\n",
       "    </tr>\n",
       "    <tr>\n",
       "      <th>1</th>\n",
       "      <td>1</td>\n",
       "      <td>1</td>\n",
       "      <td>female</td>\n",
       "      <td>38.0</td>\n",
       "      <td>1</td>\n",
       "      <td>0</td>\n",
       "      <td>71.2833</td>\n",
       "      <td>C85</td>\n",
       "      <td>C</td>\n",
       "    </tr>\n",
       "    <tr>\n",
       "      <th>2</th>\n",
       "      <td>1</td>\n",
       "      <td>3</td>\n",
       "      <td>female</td>\n",
       "      <td>26.0</td>\n",
       "      <td>0</td>\n",
       "      <td>0</td>\n",
       "      <td>7.9250</td>\n",
       "      <td>NaN</td>\n",
       "      <td>S</td>\n",
       "    </tr>\n",
       "    <tr>\n",
       "      <th>3</th>\n",
       "      <td>1</td>\n",
       "      <td>1</td>\n",
       "      <td>female</td>\n",
       "      <td>35.0</td>\n",
       "      <td>1</td>\n",
       "      <td>0</td>\n",
       "      <td>53.1000</td>\n",
       "      <td>C123</td>\n",
       "      <td>S</td>\n",
       "    </tr>\n",
       "    <tr>\n",
       "      <th>4</th>\n",
       "      <td>0</td>\n",
       "      <td>3</td>\n",
       "      <td>male</td>\n",
       "      <td>35.0</td>\n",
       "      <td>0</td>\n",
       "      <td>0</td>\n",
       "      <td>8.0500</td>\n",
       "      <td>NaN</td>\n",
       "      <td>S</td>\n",
       "    </tr>\n",
       "  </tbody>\n",
       "</table>\n",
       "</div>"
      ],
      "text/plain": [
       "   Survived  Pclass     Sex   Age  SibSp  Parch     Fare Cabin Embarked\n",
       "0         0       3    male  22.0      1      0   7.2500   NaN        S\n",
       "1         1       1  female  38.0      1      0  71.2833   C85        C\n",
       "2         1       3  female  26.0      0      0   7.9250   NaN        S\n",
       "3         1       1  female  35.0      1      0  53.1000  C123        S\n",
       "4         0       3    male  35.0      0      0   8.0500   NaN        S"
      ]
     },
     "execution_count": 469,
     "metadata": {},
     "output_type": "execute_result"
    }
   ],
   "source": [
    "dataShort = data.drop(['PassengerID','Name', 'Ticket'],axis=1)\n",
    "\n",
    "dataShort.head()"
   ]
  },
  {
   "cell_type": "markdown",
   "id": "503a0906",
   "metadata": {},
   "source": [
    "We noticed that 3 columns present missing some missing values:\n",
    "- Age\n",
    "- Cabin\n",
    "- Embarked"
   ]
  },
  {
   "cell_type": "code",
   "execution_count": 470,
   "id": "837759a2",
   "metadata": {},
   "outputs": [
    {
     "data": {
      "text/html": [
       "<div>\n",
       "<style scoped>\n",
       "    .dataframe tbody tr th:only-of-type {\n",
       "        vertical-align: middle;\n",
       "    }\n",
       "\n",
       "    .dataframe tbody tr th {\n",
       "        vertical-align: top;\n",
       "    }\n",
       "\n",
       "    .dataframe thead th {\n",
       "        text-align: right;\n",
       "    }\n",
       "</style>\n",
       "<table border=\"1\" class=\"dataframe\">\n",
       "  <thead>\n",
       "    <tr style=\"text-align: right;\">\n",
       "      <th></th>\n",
       "      <th>Total</th>\n",
       "      <th>%</th>\n",
       "    </tr>\n",
       "  </thead>\n",
       "  <tbody>\n",
       "    <tr>\n",
       "      <th>Cabin</th>\n",
       "      <td>687</td>\n",
       "      <td>77.1</td>\n",
       "    </tr>\n",
       "    <tr>\n",
       "      <th>Age</th>\n",
       "      <td>177</td>\n",
       "      <td>19.9</td>\n",
       "    </tr>\n",
       "    <tr>\n",
       "      <th>Embarked</th>\n",
       "      <td>2</td>\n",
       "      <td>0.2</td>\n",
       "    </tr>\n",
       "  </tbody>\n",
       "</table>\n",
       "</div>"
      ],
      "text/plain": [
       "          Total     %\n",
       "Cabin       687  77.1\n",
       "Age         177  19.9\n",
       "Embarked      2   0.2"
      ]
     },
     "execution_count": 470,
     "metadata": {},
     "output_type": "execute_result"
    }
   ],
   "source": [
    "total = dataShort.isnull().sum().sort_values(ascending=False)\n",
    "percent_1 = dataShort.isnull().sum()/dataShort.isnull().count()*100\n",
    "percent_2 = (round(percent_1, 1)).sort_values(ascending=False)\n",
    "missing_data = pd.concat([total, percent_2], axis=1, keys=['Total', '%'])\n",
    "missing_data.head(3)"
   ]
  },
  {
   "cell_type": "markdown",
   "id": "97e86af7",
   "metadata": {},
   "source": [
    "The column 'Cabin' presents lots of missing values (77% of the total). We decided to drop it."
   ]
  },
  {
   "cell_type": "code",
   "execution_count": 471,
   "id": "f6d7cd72",
   "metadata": {},
   "outputs": [
    {
     "data": {
      "text/html": [
       "<div>\n",
       "<style scoped>\n",
       "    .dataframe tbody tr th:only-of-type {\n",
       "        vertical-align: middle;\n",
       "    }\n",
       "\n",
       "    .dataframe tbody tr th {\n",
       "        vertical-align: top;\n",
       "    }\n",
       "\n",
       "    .dataframe thead th {\n",
       "        text-align: right;\n",
       "    }\n",
       "</style>\n",
       "<table border=\"1\" class=\"dataframe\">\n",
       "  <thead>\n",
       "    <tr style=\"text-align: right;\">\n",
       "      <th></th>\n",
       "      <th>Survived</th>\n",
       "      <th>Pclass</th>\n",
       "      <th>Sex</th>\n",
       "      <th>Age</th>\n",
       "      <th>SibSp</th>\n",
       "      <th>Parch</th>\n",
       "      <th>Fare</th>\n",
       "      <th>Embarked</th>\n",
       "    </tr>\n",
       "  </thead>\n",
       "  <tbody>\n",
       "    <tr>\n",
       "      <th>0</th>\n",
       "      <td>0</td>\n",
       "      <td>3</td>\n",
       "      <td>male</td>\n",
       "      <td>22.0</td>\n",
       "      <td>1</td>\n",
       "      <td>0</td>\n",
       "      <td>7.2500</td>\n",
       "      <td>S</td>\n",
       "    </tr>\n",
       "    <tr>\n",
       "      <th>1</th>\n",
       "      <td>1</td>\n",
       "      <td>1</td>\n",
       "      <td>female</td>\n",
       "      <td>38.0</td>\n",
       "      <td>1</td>\n",
       "      <td>0</td>\n",
       "      <td>71.2833</td>\n",
       "      <td>C</td>\n",
       "    </tr>\n",
       "    <tr>\n",
       "      <th>2</th>\n",
       "      <td>1</td>\n",
       "      <td>3</td>\n",
       "      <td>female</td>\n",
       "      <td>26.0</td>\n",
       "      <td>0</td>\n",
       "      <td>0</td>\n",
       "      <td>7.9250</td>\n",
       "      <td>S</td>\n",
       "    </tr>\n",
       "    <tr>\n",
       "      <th>3</th>\n",
       "      <td>1</td>\n",
       "      <td>1</td>\n",
       "      <td>female</td>\n",
       "      <td>35.0</td>\n",
       "      <td>1</td>\n",
       "      <td>0</td>\n",
       "      <td>53.1000</td>\n",
       "      <td>S</td>\n",
       "    </tr>\n",
       "    <tr>\n",
       "      <th>4</th>\n",
       "      <td>0</td>\n",
       "      <td>3</td>\n",
       "      <td>male</td>\n",
       "      <td>35.0</td>\n",
       "      <td>0</td>\n",
       "      <td>0</td>\n",
       "      <td>8.0500</td>\n",
       "      <td>S</td>\n",
       "    </tr>\n",
       "  </tbody>\n",
       "</table>\n",
       "</div>"
      ],
      "text/plain": [
       "   Survived  Pclass     Sex   Age  SibSp  Parch     Fare Embarked\n",
       "0         0       3    male  22.0      1      0   7.2500        S\n",
       "1         1       1  female  38.0      1      0  71.2833        C\n",
       "2         1       3  female  26.0      0      0   7.9250        S\n",
       "3         1       1  female  35.0      1      0  53.1000        S\n",
       "4         0       3    male  35.0      0      0   8.0500        S"
      ]
     },
     "execution_count": 471,
     "metadata": {},
     "output_type": "execute_result"
    }
   ],
   "source": [
    "dataShort = dataShort.drop(['Cabin'],axis=1)\n",
    "\n",
    "dataShort.head()"
   ]
  },
  {
   "cell_type": "markdown",
   "id": "d07d1f7d",
   "metadata": {},
   "source": [
    "Then, in order to fill 'Age' missed values, we decided to replace NaN with the female average age for female passengers and the male average age for male passengers (rounded)."
   ]
  },
  {
   "cell_type": "code",
   "execution_count": 472,
   "id": "e4dbae06",
   "metadata": {},
   "outputs": [
    {
     "name": "stdout",
     "output_type": "stream",
     "text": [
      "Women average age = 28\n",
      "Women average age = 31\n"
     ]
    }
   ],
   "source": [
    "women = dataShort[dataShort['Sex']=='female']\n",
    "women_avgAge = round(women[\"Age\"].mean())\n",
    "print('Women average age = %d' % women_avgAge)\n",
    "\n",
    "men = dataShort[dataShort['Sex']=='male']\n",
    "men_avgAge = round(men[\"Age\"].mean())\n",
    "print('Men average age = %d' % men_avgAge)"
   ]
  },
  {
   "cell_type": "markdown",
   "id": "3d4e5aa8",
   "metadata": {},
   "source": [
    "Se ci fosse stato un flag solo sulla presenza dei genitori o bambini, si sarebbe potuto utilizzare per stimare l'età dei dati mancanti"
   ]
  },
  {
   "cell_type": "code",
   "execution_count": 473,
   "id": "11fcf5af",
   "metadata": {},
   "outputs": [
    {
     "data": {
      "text/html": [
       "<div>\n",
       "<style scoped>\n",
       "    .dataframe tbody tr th:only-of-type {\n",
       "        vertical-align: middle;\n",
       "    }\n",
       "\n",
       "    .dataframe tbody tr th {\n",
       "        vertical-align: top;\n",
       "    }\n",
       "\n",
       "    .dataframe thead th {\n",
       "        text-align: right;\n",
       "    }\n",
       "</style>\n",
       "<table border=\"1\" class=\"dataframe\">\n",
       "  <thead>\n",
       "    <tr style=\"text-align: right;\">\n",
       "      <th></th>\n",
       "      <th>Survived</th>\n",
       "      <th>Pclass</th>\n",
       "      <th>Sex</th>\n",
       "      <th>Age</th>\n",
       "      <th>SibSp</th>\n",
       "      <th>Parch</th>\n",
       "      <th>Fare</th>\n",
       "      <th>Embarked</th>\n",
       "    </tr>\n",
       "  </thead>\n",
       "  <tbody>\n",
       "    <tr>\n",
       "      <th>0</th>\n",
       "      <td>0</td>\n",
       "      <td>3</td>\n",
       "      <td>male</td>\n",
       "      <td>22.0</td>\n",
       "      <td>1</td>\n",
       "      <td>0</td>\n",
       "      <td>7.2500</td>\n",
       "      <td>S</td>\n",
       "    </tr>\n",
       "    <tr>\n",
       "      <th>1</th>\n",
       "      <td>1</td>\n",
       "      <td>1</td>\n",
       "      <td>female</td>\n",
       "      <td>38.0</td>\n",
       "      <td>1</td>\n",
       "      <td>0</td>\n",
       "      <td>71.2833</td>\n",
       "      <td>C</td>\n",
       "    </tr>\n",
       "    <tr>\n",
       "      <th>2</th>\n",
       "      <td>1</td>\n",
       "      <td>3</td>\n",
       "      <td>female</td>\n",
       "      <td>26.0</td>\n",
       "      <td>0</td>\n",
       "      <td>0</td>\n",
       "      <td>7.9250</td>\n",
       "      <td>S</td>\n",
       "    </tr>\n",
       "    <tr>\n",
       "      <th>3</th>\n",
       "      <td>1</td>\n",
       "      <td>1</td>\n",
       "      <td>female</td>\n",
       "      <td>35.0</td>\n",
       "      <td>1</td>\n",
       "      <td>0</td>\n",
       "      <td>53.1000</td>\n",
       "      <td>S</td>\n",
       "    </tr>\n",
       "    <tr>\n",
       "      <th>4</th>\n",
       "      <td>0</td>\n",
       "      <td>3</td>\n",
       "      <td>male</td>\n",
       "      <td>35.0</td>\n",
       "      <td>0</td>\n",
       "      <td>0</td>\n",
       "      <td>8.0500</td>\n",
       "      <td>S</td>\n",
       "    </tr>\n",
       "  </tbody>\n",
       "</table>\n",
       "</div>"
      ],
      "text/plain": [
       "   Survived  Pclass     Sex   Age  SibSp  Parch     Fare Embarked\n",
       "0         0       3    male  22.0      1      0   7.2500        S\n",
       "1         1       1  female  38.0      1      0  71.2833        C\n",
       "2         1       3  female  26.0      0      0   7.9250        S\n",
       "3         1       1  female  35.0      1      0  53.1000        S\n",
       "4         0       3    male  35.0      0      0   8.0500        S"
      ]
     },
     "execution_count": 473,
     "metadata": {},
     "output_type": "execute_result"
    }
   ],
   "source": [
    "dataShort.loc[(dataShort.Sex =='female') & (dataShort.Age.isnull()), 'Age'] = women_avgAge\n",
    "dataShort.loc[(dataShort.Sex == 'male') & (dataShort.Age.isnull()), 'Age'] = men_avgAge\n",
    "\n",
    "dataShort.head()"
   ]
  },
  {
   "cell_type": "markdown",
   "id": "89418348",
   "metadata": {},
   "source": [
    "The column 'Embarked' has only 2 missing values. Counting the different values we obtain:"
   ]
  },
  {
   "cell_type": "code",
   "execution_count": 474,
   "id": "52b7ed7f",
   "metadata": {
    "scrolled": true
   },
   "outputs": [
    {
     "data": {
      "text/plain": [
       "S    644\n",
       "C    168\n",
       "Q     77\n",
       "Name: Embarked, dtype: int64"
      ]
     },
     "execution_count": 474,
     "metadata": {},
     "output_type": "execute_result"
    }
   ],
   "source": [
    "data['Embarked'].value_counts()"
   ]
  },
  {
   "cell_type": "markdown",
   "id": "096323de",
   "metadata": {},
   "source": [
    "We decided to fill those missing two values with the most probable value S."
   ]
  },
  {
   "cell_type": "code",
   "execution_count": 476,
   "id": "a8d2736e",
   "metadata": {},
   "outputs": [],
   "source": [
    "dataShort.loc[dataShort.Embarked.isnull(), 'Embarked'] = 'S'"
   ]
  },
  {
   "cell_type": "markdown",
   "id": "85f1db87",
   "metadata": {},
   "source": [
    "Let's check the number of missing values now:"
   ]
  },
  {
   "cell_type": "code",
   "execution_count": 477,
   "id": "f908bf88",
   "metadata": {},
   "outputs": [
    {
     "name": "stdout",
     "output_type": "stream",
     "text": [
      "Number of instances = 891\n",
      "Number of attributes = 8\n",
      "Number of missing values:\n",
      "\tSurvived: 0\n",
      "\tPclass: 0\n",
      "\tSex: 0\n",
      "\tAge: 0\n",
      "\tSibSp: 0\n",
      "\tParch: 0\n",
      "\tFare: 0\n",
      "\tEmbarked: 0\n"
     ]
    }
   ],
   "source": [
    "print('Number of instances = %d' % dataShort.shape[0])\n",
    "print('Number of attributes = %d' % dataShort.shape[1])\n",
    "\n",
    "print('Number of missing values:')\n",
    "for col in dataShort.columns:\n",
    "    print('\\t%s: %d' % (col, dataShort[col].isna().sum()))"
   ]
  },
  {
   "cell_type": "code",
   "execution_count": 512,
   "id": "79fff2a3",
   "metadata": {},
   "outputs": [],
   "source": [
    "dataShort.to_csv('cleaned_data.csv', index = False)"
   ]
  },
  {
   "cell_type": "markdown",
   "id": "8df8a3a7",
   "metadata": {},
   "source": [
    "Now that we've cleaned and tidied our dataset, let's procede in our analysis"
   ]
  },
  {
   "cell_type": "markdown",
   "id": "aa5ff874",
   "metadata": {},
   "source": [
    "## Frequent pattern mining"
   ]
  },
  {
   "cell_type": "code",
   "execution_count": 520,
   "id": "79fad6f9",
   "metadata": {},
   "outputs": [],
   "source": [
    "sns.set(style=\"whitegrid\")\n",
    "ax = sns.countplot(y='Pclass', hue=\"Survived\", data=dataShort)\n",
    "plt.ylabel('Pclass')\n",
    "plt.title('Survival Plot')\n",
    "plt.show()"
   ]
  },
  {
   "cell_type": "markdown",
   "id": "e921263b",
   "metadata": {},
   "source": [
    "import seaborn as sns\n",
    "%matplotlib inline\n",
    "from matplotlib import pyplot as plt\n",
    "from matplotlib import style\n",
    "\n",
    "survived = 'survived'\n",
    "not_survived = 'not survived'\n",
    "fig, axes = plt.subplots(nrows=1, ncols=2,figsize=(10, 4))\n",
    "women = dataShort[dataShort['Sex']=='female']\n",
    "men = dataShort[dataShort['Sex']=='male']\n",
    "ax = sns.histplot(women[women['Survived']==1].Age.dropna(), bins=18, label = survived, ax = axes[0], kde =False)\n",
    "ax = sns.histplot(women[women['Survived']==0].Age.dropna(), bins=40, label = not_survived, ax = axes[0], kde =False)\n",
    "ax.legend()\n",
    "ax.set_title('Female')\n",
    "ax = sns.histplot(men[men['Survived']==1].Age.dropna(), bins=18, label = survived, ax = axes[1], kde = False)\n",
    "ax = sns.histplot(men[men['Survived']==0].Age.dropna(), bins=40, label = not_survived, ax = axes[1], kde = False)\n",
    "ax.legend()\n",
    "_ = ax.set_title('Male')"
   ]
  },
  {
   "cell_type": "markdown",
   "id": "0946b303",
   "metadata": {},
   "source": [
    "dataShort['Sex'].value_counts()"
   ]
  },
  {
   "cell_type": "markdown",
   "id": "49194a24",
   "metadata": {},
   "source": [
    "sns.barplot(x='Pclass', y='Survived', data=dataShort)"
   ]
  },
  {
   "cell_type": "markdown",
   "id": "81677aba",
   "metadata": {},
   "source": [
    "We want to show the correlation between the first class and the survival"
   ]
  },
  {
   "cell_type": "code",
   "execution_count": 506,
   "id": "d63361cb",
   "metadata": {},
   "outputs": [
    {
     "name": "stdout",
     "output_type": "stream",
     "text": [
      "First class survived:  136\n",
      "First class not survived:  80\n",
      "Other classes survived:  206\n",
      "Other classes not survived:  469\n",
      "\n",
      "First class total:  216\n",
      "Other classes total:  675\n",
      "Survived total:  342\n",
      "Not survived total:  549\n",
      "\n",
      "Total sum:  891\n"
     ]
    }
   ],
   "source": [
    "firstClass_survived = ((dataShort['Pclass'] == 1) & (dataShort['Survived']== 1)).sum()\n",
    "firstClass_notSurvived = ((dataShort['Pclass'] == 1) & (dataShort['Survived']== 0)).sum()\n",
    "otherClass_survived = ((dataShort['Pclass'] != 1) & (dataShort['Survived'] == 1)).sum()\n",
    "otherClass_notSurvived = ((dataShort['Pclass'] != 1) & (dataShort['Survived'] == 0)).sum()\n",
    "\n",
    "firstClass_total = (dataShort['Pclass'] == 1).sum()\n",
    "otherClass_total = (dataShort['Pclass'] != 1).sum()\n",
    "survived_total = (dataShort['Survived'] == 1).sum()\n",
    "notSurvived_total = (dataShort['Survived'] == 0).sum()\n",
    "total = survived_total + notSurvived_total\n",
    "\n",
    "print('First class survived: ', firstClass_survived)\n",
    "print('First class not survived: ', firstClass_notSurvived)\n",
    "print('Other classes survived: ', otherClass_survived)\n",
    "print('Other classes not survived: ', otherClass_notSurvived)\n",
    "print('\\nFirst class total: ', firstClass_total)\n",
    "print('Other classes total: ', otherClass_total)\n",
    "print('Survived total: ', survived_total)\n",
    "print('Not survived total: ', notSurvived_total)\n",
    "print('\\nTotal sum: ', total)"
   ]
  },
  {
   "cell_type": "markdown",
   "id": "9c7c134b",
   "metadata": {},
   "source": [
    "We computed the correlation matrix to study the relationship between all the variables"
   ]
  },
  {
   "cell_type": "code",
   "execution_count": 523,
   "id": "ecf77fd1",
   "metadata": {},
   "outputs": [
    {
     "name": "stdout",
     "output_type": "stream",
     "text": [
      "The correlation DataFrame is: \n",
      "\n",
      "          Survived    Pclass       Sex       Age     SibSp     Parch  \\\n",
      "Survived  1.000000 -0.338481  0.543351 -0.081736 -0.035322  0.081629   \n",
      "Pclass   -0.338481  1.000000 -0.131900 -0.329201  0.083081  0.018443   \n",
      "Sex       0.543351 -0.131900  1.000000 -0.104850  0.114631  0.245489   \n",
      "Age      -0.081736 -0.329201 -0.104850  1.000000 -0.237059 -0.183536   \n",
      "SibSp    -0.035322  0.083081  0.114631 -0.237059  1.000000  0.414838   \n",
      "Parch     0.081629  0.018443  0.245489 -0.183536  0.414838  1.000000   \n",
      "Fare      0.257307 -0.549500  0.182333  0.088270  0.159651  0.216225   \n",
      "Embarked  0.106811  0.045702  0.116569  0.003538 -0.059961 -0.078665   \n",
      "\n",
      "              Fare  Embarked  \n",
      "Survived  0.257307  0.106811  \n",
      "Pclass   -0.549500  0.045702  \n",
      "Sex       0.182333  0.116569  \n",
      "Age       0.088270  0.003538  \n",
      "SibSp     0.159651 -0.059961  \n",
      "Parch     0.216225 -0.078665  \n",
      "Fare      1.000000  0.062142  \n",
      "Embarked  0.062142  1.000000   \n",
      "\n"
     ]
    }
   ],
   "source": [
    "cdata = dataShort\n",
    "\n",
    "\n",
    "rep = {\"male\": 1, \"female\": 2}\n",
    "cdata.replace({'Sex' : rep}, inplace=True)\n",
    "\n",
    "rep = {\"S\": 1, \"C\": 2, 'Q':3}\n",
    "cdata.replace({'Embarked' : rep}, inplace=True)\n",
    "\n",
    "cdata.head()\n",
    "\n",
    "\n",
    "corr_df = cdata.corr()\n",
    "print(\"The correlation DataFrame is: \\n\")\n",
    "print(corr_df, \"\\n\")"
   ]
  },
  {
   "cell_type": "markdown",
   "id": "8ed2d463",
   "metadata": {},
   "source": [
    "From the correlation Matrix we can notice that sex and survival are highly correlated."
   ]
  },
  {
   "cell_type": "code",
   "execution_count": 524,
   "id": "ad4e575e",
   "metadata": {},
   "outputs": [],
   "source": [
    "sns.set(style=\"whitegrid\")\n",
    "ax = sns.countplot(y='Sex', hue=\"Survived\", data=dataShort)\n",
    "plt.ylabel('Sex')\n",
    "plt.title('Survival Plot')\n",
    "plt.show()"
   ]
  },
  {
   "cell_type": "markdown",
   "id": "8be0a680",
   "metadata": {},
   "source": [
    "Trovare la classe in base a sesso, età e famiglia"
   ]
  },
  {
   "cell_type": "markdown",
   "id": "259375d1",
   "metadata": {},
   "source": [
    "Trovare la correlazione tra età e tipo di parenti\n",
    "Correlare il prezzo del biglietto con la classe o il porto di imbarco"
   ]
  },
  {
   "cell_type": "markdown",
   "id": "e4e140d7",
   "metadata": {},
   "source": [
    "Albero decisionale: fai diverse prove con diversi alberi decisionali con diverse feature in input per evitare l'overfitting\n",
    "Non testare l'argoritmo solo su un dataset completo, ma provare varie features per verificare l'overfitting\n",
    "Valutare la bontà dell'algoritmo con tutti i parametri della classificazione.\n",
    "Valutare le metriche sempre sul test set\n",
    "overfitting = all'algoritmo passi troppi parametri e l'argoritmo impara a memoria.\n",
    "Non identifica l'andamento generico dei dati. Non è rappresentativo della varietà dei dati, ma solo dei dati già osservati\n",
    "Accuratezza non è fiducia\n",
    "- vuoi evitare falsi negative\n",
    "- sbilanciato\n",
    "Considerare anche recall e la precision\n",
    "Modello stupido che considera solo la possibilità più alta.\n",
    "\n",
    "Capitolo 2-5-8.1(8.2, 8.3 no) Random forest\n",
    "Grafico rispetto alla profondità del grafico e valutare l'overfitting"
   ]
  },
  {
   "cell_type": "markdown",
   "id": "3169aac6",
   "metadata": {},
   "source": [
    "## Classification"
   ]
  }
 ],
 "metadata": {
  "kernelspec": {
   "display_name": "Python 3 (ipykernel)",
   "language": "python",
   "name": "python3"
  },
  "language_info": {
   "codemirror_mode": {
    "name": "ipython",
    "version": 3
   },
   "file_extension": ".py",
   "mimetype": "text/x-python",
   "name": "python",
   "nbconvert_exporter": "python",
   "pygments_lexer": "ipython3",
   "version": "3.8.5"
  }
 },
 "nbformat": 4,
 "nbformat_minor": 5
}
